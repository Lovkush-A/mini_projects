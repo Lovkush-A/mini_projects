{
 "cells": [
  {
   "cell_type": "code",
   "execution_count": null,
   "id": "1149e777",
   "metadata": {},
   "outputs": [],
   "source": [
    "import numpy as np\n",
    "import seaborn as sns\n",
    "%config InlineBackend.figure_format = \"retina\""
   ]
  },
  {
   "cell_type": "code",
   "execution_count": null,
   "id": "aa1723e7",
   "metadata": {},
   "outputs": [],
   "source": [
    "def generate_single_sample(n, p):\n",
    "    \"\"\"\n",
    "    generate an iid sample X1,...Xn from Bern(p)\n",
    "    with at least one success in first n-1 terms\n",
    "    \"\"\"\n",
    "    while True:\n",
    "        sample = np.random.randint(0,2,size = (n,))\n",
    "        if sample[0:n-1].sum() > 0:\n",
    "            return sample"
   ]
  },
  {
   "cell_type": "code",
   "execution_count": null,
   "id": "a4ec018a",
   "metadata": {},
   "outputs": [],
   "source": [
    "def streakiness(sample):\n",
    "    \"\"\"\n",
    "    given a sample of 0s and 1s, determine the odds that the i+1th term is 1\n",
    "    given that the ith term is 1\n",
    "    \"\"\"\n",
    "    n = len(sample)\n",
    "    successes = (sample[:n-1] == 1)\n",
    "    success_after_successes = sample[1:][successes]\n",
    "    return success_after_successes.sum()/successes.sum()"
   ]
  },
  {
   "cell_type": "code",
   "execution_count": null,
   "id": "f8f66de5",
   "metadata": {},
   "outputs": [],
   "source": [
    "def generate_streakinesses(n_samples, len_sample, p):\n",
    "    streakinesses = np.zeros(n_samples).astype('float16')\n",
    "    for i in range(n_samples):\n",
    "        streakinesses[i] = streakiness(generate_single_sample(len_sample,p))\n",
    "    return streakinesses"
   ]
  },
  {
   "cell_type": "code",
   "execution_count": null,
   "id": "599848f3",
   "metadata": {},
   "outputs": [],
   "source": [
    "sample = generate_single_sample(10,0.5)\n",
    "print(sample)\n",
    "streakiness(sample)"
   ]
  },
  {
   "cell_type": "code",
   "execution_count": null,
   "id": "0f60c977",
   "metadata": {},
   "outputs": [],
   "source": [
    "streakinesses = generate_streakinesses(100000, 121, 0.5)\n",
    "streakinesses.mean()"
   ]
  },
  {
   "cell_type": "code",
   "execution_count": null,
   "id": "02531788",
   "metadata": {},
   "outputs": [],
   "source": [
    "sns.histplot(streakinesses, bins=60)"
   ]
  },
  {
   "cell_type": "code",
   "execution_count": null,
   "id": "d776a0c7",
   "metadata": {},
   "outputs": [],
   "source": [
    "print(np.percentile(streakinesses, 50))\n",
    "print(np.percentile(streakinesses, 10))\n",
    "print(np.percentile(streakinesses, 90))"
   ]
  },
  {
   "cell_type": "code",
   "execution_count": null,
   "id": "6a78cfe7",
   "metadata": {},
   "outputs": [],
   "source": []
  }
 ],
 "metadata": {
  "kernelspec": {
   "display_name": "Python 3",
   "language": "python",
   "name": "python3"
  },
  "language_info": {
   "codemirror_mode": {
    "name": "ipython",
    "version": 3
   },
   "file_extension": ".py",
   "mimetype": "text/x-python",
   "name": "python",
   "nbconvert_exporter": "python",
   "pygments_lexer": "ipython3",
   "version": "3.9.4"
  }
 },
 "nbformat": 4,
 "nbformat_minor": 5
}
