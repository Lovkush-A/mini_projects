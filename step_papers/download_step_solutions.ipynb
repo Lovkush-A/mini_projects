{
 "cells": [
  {
   "cell_type": "code",
   "execution_count": null,
   "metadata": {},
   "outputs": [],
   "source": [
    "from selenium import webdriver\n",
    "import requests\n",
    "import re"
   ]
  },
  {
   "cell_type": "code",
   "execution_count": null,
   "metadata": {},
   "outputs": [],
   "source": [
    "browser = webdriver.Chrome()\n",
    "URL = 'https://mei.org.uk/step-aea-solutions'\n",
    "browser.get(URL)"
   ]
  },
  {
   "cell_type": "code",
   "execution_count": null,
   "metadata": {},
   "outputs": [],
   "source": [
    "browser.find_element_by_xpath('//button[text()=\"STEP Solutions\"]').click()\n",
    "browser.switch_to_window(browser.window_handles[1])\n",
    "browser.current_url"
   ]
  },
  {
   "cell_type": "code",
   "execution_count": null,
   "metadata": {},
   "outputs": [],
   "source": [
    "browser.find_element_by_link_text('STEP past paper worked solutions').click()\n",
    "browser.current_url"
   ]
  },
  {
   "cell_type": "code",
   "execution_count": null,
   "metadata": {},
   "outputs": [],
   "source": [
    "elements = browser.find_elements_by_partial_link_text('STEP solutions')\n",
    "groups = []\n",
    "for element in elements:\n",
    "    groups.append(element.get_attribute(\"href\"))\n",
    "\n",
    "groups"
   ]
  },
  {
   "cell_type": "code",
   "execution_count": null,
   "metadata": {},
   "outputs": [],
   "source": [
    "pattern = r\"STEP (1|I)+: \\d\\d\\d\\d\"\n",
    "all_urls = []\n",
    "\n",
    "login_url = \"https://2017.integralmaths.org/login/index.php\"\n",
    "payload = {\n",
    "    'username': 'mei-step',\n",
    "    'password': '' # edit this with correct password when running notebook\n",
    "}\n",
    "\n",
    "for url_group in groups:\n",
    "    browser.get(url_group)\n",
    "    \n",
    "    papers = []\n",
    "    for paper in browser.find_elements_by_partial_link_text('STEP '):\n",
    "        if re.match(pattern,paper.get_property('textContent')):\n",
    "            papers.append([paper.get_attribute(\"href\"), paper.get_property('textContent')])\n",
    "    \n",
    "    for url_paper, paper_name in papers:\n",
    "        browser.get(url_paper)\n",
    "        questions = browser.find_elements_by_partial_link_text('Question ')\n",
    "        for question in questions:\n",
    "            question.click()\n",
    "            browser.switch_to_window(browser.window_handles[2])\n",
    "\n",
    "            url = browser.current_url\n",
    "            filename = paper_name+'-'+url.split('/')[-1]\n",
    "            all_urls.append([url, filename])\n",
    "            with requests.Session() as s:\n",
    "                s.post(login_url, data=payload)\n",
    "                r = s.get(url, allow_redirects=True, stream=True)\n",
    "                open(filename, 'wb').write(r.content)\n",
    "\n",
    "            browser.close()\n",
    "            browser.switch_to_window(browser.window_handles[1])"
   ]
  },
  {
   "cell_type": "code",
   "execution_count": null,
   "metadata": {},
   "outputs": [],
   "source": [
    "len(all_urls)"
   ]
  },
  {
   "cell_type": "code",
   "execution_count": null,
   "metadata": {},
   "outputs": [],
   "source": [
    "with open('answer_urls.txt','w') as f:\n",
    "    f.writelines([name+';;'+url+'\\n' for url,name in all_urls])"
   ]
  }
 ],
 "metadata": {
  "kernelspec": {
   "display_name": "Python 3",
   "language": "python",
   "name": "python3"
  },
  "language_info": {
   "codemirror_mode": {
    "name": "ipython",
    "version": 3
   },
   "file_extension": ".py",
   "mimetype": "text/x-python",
   "name": "python",
   "nbconvert_exporter": "python",
   "pygments_lexer": "ipython3",
   "version": "3.7.6"
  }
 },
 "nbformat": 4,
 "nbformat_minor": 4
}